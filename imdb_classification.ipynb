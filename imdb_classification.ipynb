{
 "cells": [
  {
   "cell_type": "code",
   "execution_count": 8,
   "metadata": {
    "collapsed": true
   },
   "outputs": [],
   "source": [
    "import pandas as pd"
   ]
  },
  {
   "cell_type": "code",
   "execution_count": 9,
   "outputs": [
    {
     "data": {
      "text/plain": "                                                  review sentiment\n0      One of the other reviewers has mentioned that ...  positive\n1      A wonderful little production. <br /><br />The...  positive\n2      I thought this was a wonderful way to spend ti...  positive\n3      Basically there's a family where a little boy ...  negative\n4      Petter Mattei's \"Love in the Time of Money\" is...  positive\n...                                                  ...       ...\n49995  I thought this movie did a down right good job...  positive\n49996  Bad plot, bad dialogue, bad acting, idiotic di...  negative\n49997  I am a Catholic taught in parochial elementary...  negative\n49998  I'm going to have to disagree with the previou...  negative\n49999  No one expects the Star Trek movies to be high...  negative\n\n[50000 rows x 2 columns]",
      "text/html": "<div>\n<style scoped>\n    .dataframe tbody tr th:only-of-type {\n        vertical-align: middle;\n    }\n\n    .dataframe tbody tr th {\n        vertical-align: top;\n    }\n\n    .dataframe thead th {\n        text-align: right;\n    }\n</style>\n<table border=\"1\" class=\"dataframe\">\n  <thead>\n    <tr style=\"text-align: right;\">\n      <th></th>\n      <th>review</th>\n      <th>sentiment</th>\n    </tr>\n  </thead>\n  <tbody>\n    <tr>\n      <th>0</th>\n      <td>One of the other reviewers has mentioned that ...</td>\n      <td>positive</td>\n    </tr>\n    <tr>\n      <th>1</th>\n      <td>A wonderful little production. &lt;br /&gt;&lt;br /&gt;The...</td>\n      <td>positive</td>\n    </tr>\n    <tr>\n      <th>2</th>\n      <td>I thought this was a wonderful way to spend ti...</td>\n      <td>positive</td>\n    </tr>\n    <tr>\n      <th>3</th>\n      <td>Basically there's a family where a little boy ...</td>\n      <td>negative</td>\n    </tr>\n    <tr>\n      <th>4</th>\n      <td>Petter Mattei's \"Love in the Time of Money\" is...</td>\n      <td>positive</td>\n    </tr>\n    <tr>\n      <th>...</th>\n      <td>...</td>\n      <td>...</td>\n    </tr>\n    <tr>\n      <th>49995</th>\n      <td>I thought this movie did a down right good job...</td>\n      <td>positive</td>\n    </tr>\n    <tr>\n      <th>49996</th>\n      <td>Bad plot, bad dialogue, bad acting, idiotic di...</td>\n      <td>negative</td>\n    </tr>\n    <tr>\n      <th>49997</th>\n      <td>I am a Catholic taught in parochial elementary...</td>\n      <td>negative</td>\n    </tr>\n    <tr>\n      <th>49998</th>\n      <td>I'm going to have to disagree with the previou...</td>\n      <td>negative</td>\n    </tr>\n    <tr>\n      <th>49999</th>\n      <td>No one expects the Star Trek movies to be high...</td>\n      <td>negative</td>\n    </tr>\n  </tbody>\n</table>\n<p>50000 rows × 2 columns</p>\n</div>"
     },
     "execution_count": 9,
     "metadata": {},
     "output_type": "execute_result"
    }
   ],
   "source": [
    "df_reviews = pd.read_csv('IMDB Dataset.csv')\n",
    "df_reviews"
   ],
   "metadata": {
    "collapsed": false
   }
  },
  {
   "cell_type": "code",
   "execution_count": 10,
   "outputs": [],
   "source": [
    "df_positive = df_reviews[df_reviews['sentiment'] == 'positive'][:9000]\n",
    "df_negative = df_reviews[df_reviews['sentiment'] == 'negative'][:1000]"
   ],
   "metadata": {
    "collapsed": false
   }
  },
  {
   "cell_type": "code",
   "execution_count": 11,
   "outputs": [
    {
     "name": "stdout",
     "output_type": "stream",
     "text": [
      "sentiment\n",
      "positive    9000\n",
      "Name: count, dtype: int64\n",
      "sentiment\n",
      "negative    1000\n",
      "Name: count, dtype: int64\n"
     ]
    }
   ],
   "source": [
    "print(df_positive.value_counts('sentiment'))\n",
    "print(df_negative.value_counts('sentiment'))"
   ],
   "metadata": {
    "collapsed": false
   }
  },
  {
   "cell_type": "code",
   "execution_count": 12,
   "outputs": [
    {
     "data": {
      "text/plain": "                                                 review sentiment\n0     One of the other reviewers has mentioned that ...  positive\n1     A wonderful little production. <br /><br />The...  positive\n2     I thought this was a wonderful way to spend ti...  positive\n4     Petter Mattei's \"Love in the Time of Money\" is...  positive\n5     Probably my all-time favorite movie, a story o...  positive\n...                                                 ...       ...\n2000  Stranded in Space (1972) MST3K version - a ver...  negative\n2005  I happened to catch this supposed \"horror\" fli...  negative\n2007  waste of 1h45 this nasty little film is one to...  negative\n2010  Warning: This could spoil your movie. Watch it...  negative\n2013  Quite what the producers of this appalling ada...  negative\n\n[10000 rows x 2 columns]",
      "text/html": "<div>\n<style scoped>\n    .dataframe tbody tr th:only-of-type {\n        vertical-align: middle;\n    }\n\n    .dataframe tbody tr th {\n        vertical-align: top;\n    }\n\n    .dataframe thead th {\n        text-align: right;\n    }\n</style>\n<table border=\"1\" class=\"dataframe\">\n  <thead>\n    <tr style=\"text-align: right;\">\n      <th></th>\n      <th>review</th>\n      <th>sentiment</th>\n    </tr>\n  </thead>\n  <tbody>\n    <tr>\n      <th>0</th>\n      <td>One of the other reviewers has mentioned that ...</td>\n      <td>positive</td>\n    </tr>\n    <tr>\n      <th>1</th>\n      <td>A wonderful little production. &lt;br /&gt;&lt;br /&gt;The...</td>\n      <td>positive</td>\n    </tr>\n    <tr>\n      <th>2</th>\n      <td>I thought this was a wonderful way to spend ti...</td>\n      <td>positive</td>\n    </tr>\n    <tr>\n      <th>4</th>\n      <td>Petter Mattei's \"Love in the Time of Money\" is...</td>\n      <td>positive</td>\n    </tr>\n    <tr>\n      <th>5</th>\n      <td>Probably my all-time favorite movie, a story o...</td>\n      <td>positive</td>\n    </tr>\n    <tr>\n      <th>...</th>\n      <td>...</td>\n      <td>...</td>\n    </tr>\n    <tr>\n      <th>2000</th>\n      <td>Stranded in Space (1972) MST3K version - a ver...</td>\n      <td>negative</td>\n    </tr>\n    <tr>\n      <th>2005</th>\n      <td>I happened to catch this supposed \"horror\" fli...</td>\n      <td>negative</td>\n    </tr>\n    <tr>\n      <th>2007</th>\n      <td>waste of 1h45 this nasty little film is one to...</td>\n      <td>negative</td>\n    </tr>\n    <tr>\n      <th>2010</th>\n      <td>Warning: This could spoil your movie. Watch it...</td>\n      <td>negative</td>\n    </tr>\n    <tr>\n      <th>2013</th>\n      <td>Quite what the producers of this appalling ada...</td>\n      <td>negative</td>\n    </tr>\n  </tbody>\n</table>\n<p>10000 rows × 2 columns</p>\n</div>"
     },
     "execution_count": 12,
     "metadata": {},
     "output_type": "execute_result"
    }
   ],
   "source": [
    "# Make imbalanced dataframe\n",
    "\n",
    "df_reviews_imb = pd.concat([df_positive, df_negative])\n",
    "df_reviews_imb"
   ],
   "metadata": {
    "collapsed": false
   }
  },
  {
   "cell_type": "markdown",
   "source": [
    "# Deal with imbalanced classes"
   ],
   "metadata": {
    "collapsed": false
   }
  },
  {
   "cell_type": "markdown",
   "source": [
    "#### Balancing data with .sample()"
   ],
   "metadata": {
    "collapsed": false
   }
  },
  {
   "cell_type": "code",
   "execution_count": 13,
   "outputs": [
    {
     "data": {
      "text/plain": "<Axes: xlabel='sentiment'>"
     },
     "execution_count": 13,
     "metadata": {},
     "output_type": "execute_result"
    },
    {
     "data": {
      "text/plain": "<Figure size 640x480 with 1 Axes>",
      "image/png": "[encoded data removed]"
     },
     "metadata": {},
     "output_type": "display_data"
    }
   ],
   "source": [
    "df_reviews_imb.value_counts('sentiment').plot(kind='bar')"
   ],
   "metadata": {
    "collapsed": false
   }
  },
  {
   "cell_type": "code",
   "execution_count": 14,
   "outputs": [],
   "source": [
    "len_negative = len(df_negative)"
   ],
   "metadata": {
    "collapsed": false
   }
  },
  {
   "cell_type": "code",
   "execution_count": 15,
   "outputs": [],
   "source": [
    "df_undersample_positive = df_positive.sample(n=len_negative)"
   ],
   "metadata": {
    "collapsed": false
   }
  },
  {
   "cell_type": "code",
   "execution_count": 16,
   "outputs": [
    {
     "data": {
      "text/plain": "                                                  review sentiment\n7583   This has got to be the funniest movie I have s...  positive\n8850   my girlfriend, as we walk in the cold London e...  positive\n7821   definitely needed a little work in season 2. S...  positive\n9089   A most awaited film of the year 2002. After th...  positive\n17360  Have you heard the story about the reluctant h...  positive\n...                                                  ...       ...\n2000   Stranded in Space (1972) MST3K version - a ver...  negative\n2005   I happened to catch this supposed \"horror\" fli...  negative\n2007   waste of 1h45 this nasty little film is one to...  negative\n2010   Warning: This could spoil your movie. Watch it...  negative\n2013   Quite what the producers of this appalling ada...  negative\n\n[2000 rows x 2 columns]",
      "text/html": "<div>\n<style scoped>\n    .dataframe tbody tr th:only-of-type {\n        vertical-align: middle;\n    }\n\n    .dataframe tbody tr th {\n        vertical-align: top;\n    }\n\n    .dataframe thead th {\n        text-align: right;\n    }\n</style>\n<table border=\"1\" class=\"dataframe\">\n  <thead>\n    <tr style=\"text-align: right;\">\n      <th></th>\n      <th>review</th>\n      <th>sentiment</th>\n    </tr>\n  </thead>\n  <tbody>\n    <tr>\n      <th>7583</th>\n      <td>This has got to be the funniest movie I have s...</td>\n      <td>positive</td>\n    </tr>\n    <tr>\n      <th>8850</th>\n      <td>my girlfriend, as we walk in the cold London e...</td>\n      <td>positive</td>\n    </tr>\n    <tr>\n      <th>7821</th>\n      <td>definitely needed a little work in season 2. S...</td>\n      <td>positive</td>\n    </tr>\n    <tr>\n      <th>9089</th>\n      <td>A most awaited film of the year 2002. After th...</td>\n      <td>positive</td>\n    </tr>\n    <tr>\n      <th>17360</th>\n      <td>Have you heard the story about the reluctant h...</td>\n      <td>positive</td>\n    </tr>\n    <tr>\n      <th>...</th>\n      <td>...</td>\n      <td>...</td>\n    </tr>\n    <tr>\n      <th>2000</th>\n      <td>Stranded in Space (1972) MST3K version - a ver...</td>\n      <td>negative</td>\n    </tr>\n    <tr>\n      <th>2005</th>\n      <td>I happened to catch this supposed \"horror\" fli...</td>\n      <td>negative</td>\n    </tr>\n    <tr>\n      <th>2007</th>\n      <td>waste of 1h45 this nasty little film is one to...</td>\n      <td>negative</td>\n    </tr>\n    <tr>\n      <th>2010</th>\n      <td>Warning: This could spoil your movie. Watch it...</td>\n      <td>negative</td>\n    </tr>\n    <tr>\n      <th>2013</th>\n      <td>Quite what the producers of this appalling ada...</td>\n      <td>negative</td>\n    </tr>\n  </tbody>\n</table>\n<p>2000 rows × 2 columns</p>\n</div>"
     },
     "execution_count": 16,
     "metadata": {},
     "output_type": "execute_result"
    }
   ],
   "source": [
    "df_reviews_balanced = pd.concat([df_undersample_positive, df_negative])\n",
    "df_reviews_balanced"
   ],
   "metadata": {
    "collapsed": false
   }
  },
  {
   "cell_type": "code",
   "execution_count": 17,
   "outputs": [
    {
     "data": {
      "text/plain": "                                                 review sentiment\n0     This has got to be the funniest movie I have s...  positive\n1     my girlfriend, as we walk in the cold London e...  positive\n2     definitely needed a little work in season 2. S...  positive\n3     A most awaited film of the year 2002. After th...  positive\n4     Have you heard the story about the reluctant h...  positive\n...                                                 ...       ...\n1995  Stranded in Space (1972) MST3K version - a ver...  negative\n1996  I happened to catch this supposed \"horror\" fli...  negative\n1997  waste of 1h45 this nasty little film is one to...  negative\n1998  Warning: This could spoil your movie. Watch it...  negative\n1999  Quite what the producers of this appalling ada...  negative\n\n[2000 rows x 2 columns]",
      "text/html": "<div>\n<style scoped>\n    .dataframe tbody tr th:only-of-type {\n        vertical-align: middle;\n    }\n\n    .dataframe tbody tr th {\n        vertical-align: top;\n    }\n\n    .dataframe thead th {\n        text-align: right;\n    }\n</style>\n<table border=\"1\" class=\"dataframe\">\n  <thead>\n    <tr style=\"text-align: right;\">\n      <th></th>\n      <th>review</th>\n      <th>sentiment</th>\n    </tr>\n  </thead>\n  <tbody>\n    <tr>\n      <th>0</th>\n      <td>This has got to be the funniest movie I have s...</td>\n      <td>positive</td>\n    </tr>\n    <tr>\n      <th>1</th>\n      <td>my girlfriend, as we walk in the cold London e...</td>\n      <td>positive</td>\n    </tr>\n    <tr>\n      <th>2</th>\n      <td>definitely needed a little work in season 2. S...</td>\n      <td>positive</td>\n    </tr>\n    <tr>\n      <th>3</th>\n      <td>A most awaited film of the year 2002. After th...</td>\n      <td>positive</td>\n    </tr>\n    <tr>\n      <th>4</th>\n      <td>Have you heard the story about the reluctant h...</td>\n      <td>positive</td>\n    </tr>\n    <tr>\n      <th>...</th>\n      <td>...</td>\n      <td>...</td>\n    </tr>\n    <tr>\n      <th>1995</th>\n      <td>Stranded in Space (1972) MST3K version - a ver...</td>\n      <td>negative</td>\n    </tr>\n    <tr>\n      <th>1996</th>\n      <td>I happened to catch this supposed \"horror\" fli...</td>\n      <td>negative</td>\n    </tr>\n    <tr>\n      <th>1997</th>\n      <td>waste of 1h45 this nasty little film is one to...</td>\n      <td>negative</td>\n    </tr>\n    <tr>\n      <th>1998</th>\n      <td>Warning: This could spoil your movie. Watch it...</td>\n      <td>negative</td>\n    </tr>\n    <tr>\n      <th>1999</th>\n      <td>Quite what the producers of this appalling ada...</td>\n      <td>negative</td>\n    </tr>\n  </tbody>\n</table>\n<p>2000 rows × 2 columns</p>\n</div>"
     },
     "execution_count": 17,
     "metadata": {},
     "output_type": "execute_result"
    }
   ],
   "source": [
    "df_reviews_balanced.reset_index(drop=True, inplace=True)\n",
    "df_reviews_balanced"
   ],
   "metadata": {
    "collapsed": false
   }
  },
  {
   "cell_type": "markdown",
   "source": [
    "#### Balancing with RandomUnderSampler"
   ],
   "metadata": {
    "collapsed": false
   }
  },
  {
   "cell_type": "code",
   "execution_count": 18,
   "outputs": [],
   "source": [
    "from imblearn.under_sampling import RandomUnderSampler  # for under sampling\n",
    "#from imblearn.under_sampling import RandomOverSampler - for over sampling"
   ],
   "metadata": {
    "collapsed": false
   }
  },
  {
   "cell_type": "code",
   "execution_count": 19,
   "outputs": [],
   "source": [
    "random_under_sample = RandomUnderSampler(random_state=0)"
   ],
   "metadata": {
    "collapsed": false
   }
  },
  {
   "cell_type": "code",
   "execution_count": 22,
   "outputs": [
    {
     "data": {
      "text/plain": "                                                 review sentiment\n0     Basically there's a family where a little boy ...  negative\n1     This show was an amazing, fresh & innovative i...  negative\n2     Encouraged by the positive comments about this...  negative\n3     Phil the Alien is one of those quirky films wh...  negative\n4     I saw this movie when I was about 12 when it c...  negative\n...                                                 ...       ...\n1995  Knute Rockne led an extraordinary life and his...  positive\n1996  At the height of the 'Celebrity Big Brother' r...  positive\n1997  This is another of Robert Altman's underrated ...  positive\n1998  This movie won a special award at Cannes for i...  positive\n1999  You'd be forgiven to think a Finnish director ...  positive\n\n[2000 rows x 2 columns]",
      "text/html": "<div>\n<style scoped>\n    .dataframe tbody tr th:only-of-type {\n        vertical-align: middle;\n    }\n\n    .dataframe tbody tr th {\n        vertical-align: top;\n    }\n\n    .dataframe thead th {\n        text-align: right;\n    }\n</style>\n<table border=\"1\" class=\"dataframe\">\n  <thead>\n    <tr style=\"text-align: right;\">\n      <th></th>\n      <th>review</th>\n      <th>sentiment</th>\n    </tr>\n  </thead>\n  <tbody>\n    <tr>\n      <th>0</th>\n      <td>Basically there's a family where a little boy ...</td>\n      <td>negative</td>\n    </tr>\n    <tr>\n      <th>1</th>\n      <td>This show was an amazing, fresh &amp; innovative i...</td>\n      <td>negative</td>\n    </tr>\n    <tr>\n      <th>2</th>\n      <td>Encouraged by the positive comments about this...</td>\n      <td>negative</td>\n    </tr>\n    <tr>\n      <th>3</th>\n      <td>Phil the Alien is one of those quirky films wh...</td>\n      <td>negative</td>\n    </tr>\n    <tr>\n      <th>4</th>\n      <td>I saw this movie when I was about 12 when it c...</td>\n      <td>negative</td>\n    </tr>\n    <tr>\n      <th>...</th>\n      <td>...</td>\n      <td>...</td>\n    </tr>\n    <tr>\n      <th>1995</th>\n      <td>Knute Rockne led an extraordinary life and his...</td>\n      <td>positive</td>\n    </tr>\n    <tr>\n      <th>1996</th>\n      <td>At the height of the 'Celebrity Big Brother' r...</td>\n      <td>positive</td>\n    </tr>\n    <tr>\n      <th>1997</th>\n      <td>This is another of Robert Altman's underrated ...</td>\n      <td>positive</td>\n    </tr>\n    <tr>\n      <th>1998</th>\n      <td>This movie won a special award at Cannes for i...</td>\n      <td>positive</td>\n    </tr>\n    <tr>\n      <th>1999</th>\n      <td>You'd be forgiven to think a Finnish director ...</td>\n      <td>positive</td>\n    </tr>\n  </tbody>\n</table>\n<p>2000 rows × 2 columns</p>\n</div>"
     },
     "execution_count": 22,
     "metadata": {},
     "output_type": "execute_result"
    }
   ],
   "source": [
    "df_reviews_bal, df_reviews_bal['sentiment'] = random_under_sample.fit_resample(df_reviews_imb[['review']], df_reviews_imb['sentiment'])\n",
    "df_reviews_bal"
   ],
   "metadata": {
    "collapsed": false
   }
  },
  {
   "cell_type": "code",
   "execution_count": 23,
   "outputs": [
    {
     "data": {
      "text/plain": "sentiment\nnegative    1000\npositive    1000\nName: count, dtype: int64"
     },
     "execution_count": 23,
     "metadata": {},
     "output_type": "execute_result"
    }
   ],
   "source": [
    "df_reviews_bal.value_counts('sentiment')"
   ],
   "metadata": {
    "collapsed": false
   }
  },
  {
   "cell_type": "code",
   "execution_count": null,
   "outputs": [],
   "source": [],
   "metadata": {
    "collapsed": false
   }
  }
 ],
 "metadata": {
  "kernelspec": {
   "display_name": "Python 3",
   "language": "python",
   "name": "python3"
  },
  "language_info": {
   "codemirror_mode": {
    "name": "ipython",
    "version": 2
   },
   "file_extension": ".py",
   "mimetype": "text/x-python",
   "name": "python",
   "nbconvert_exporter": "python",
   "pygments_lexer": "ipython2",
   "version": "2.7.6"
  }
 },
 "nbformat": 4,
 "nbformat_minor": 0
}
